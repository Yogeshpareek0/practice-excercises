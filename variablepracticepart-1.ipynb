{
 "cells": [
  {
   "cell_type": "code",
   "execution_count": 3,
   "metadata": {},
   "outputs": [
    {
     "name": "stdout",
     "output_type": "stream",
     "text": [
      "yogesh pareek\n"
     ]
    }
   ],
   "source": [
    "# 1.Create a variable called \"name\" and assign it your name as a string.\n",
    "name = 'yogesh pareek'\n",
    "print (name)"
   ]
  },
  {
   "cell_type": "code",
   "execution_count": 4,
   "metadata": {},
   "outputs": [
    {
     "name": "stdout",
     "output_type": "stream",
     "text": [
      "25\n"
     ]
    }
   ],
   "source": [
    "# Create a variable called \"age\" and assign it your age as an integer.\n",
    "age = 25\n",
    "print (age)"
   ]
  },
  {
   "cell_type": "code",
   "execution_count": 6,
   "metadata": {},
   "outputs": [
    {
     "name": "stdout",
     "output_type": "stream",
     "text": [
      "163.2 <class 'float'>\n"
     ]
    }
   ],
   "source": [
    "# Create a variable called \"height\" and assign it your height in meters as a float.\n",
    "height = 163.2\n",
    "print (height,type(height))"
   ]
  },
  {
   "cell_type": "code",
   "execution_count": 11,
   "metadata": {},
   "outputs": [
    {
     "name": "stdout",
     "output_type": "stream",
     "text": [
      "yes i am a student\n"
     ]
    }
   ],
   "source": [
    "# Create a variable called \"is_student\" and assign it a boolean value representing whether you are a student or not.\n",
    "is_student = True\n",
    "if is_student:\n",
    "    print ('yes i am a student')\n",
    "else:\n",
    "    print ('i am not a student')"
   ]
  },
  {
   "cell_type": "code",
   "execution_count": 14,
   "metadata": {},
   "outputs": [
    {
     "name": "stdout",
     "output_type": "stream",
     "text": [
      "[90, 80, 75, 70]\n"
     ]
    }
   ],
   "source": [
    "# Create a variable called \"grades\" and assign it a list of your grades as integers.\n",
    "grades = [90,80,75,70]\n",
    "print (grades)\n"
   ]
  },
  {
   "cell_type": "code",
   "execution_count": 23,
   "metadata": {},
   "outputs": [
    {
     "name": "stdout",
     "output_type": "stream",
     "text": [
      "315\n",
      "......................\n",
      "315\n",
      "......................\n"
     ]
    }
   ],
   "source": [
    "# Create a variable called \"total_grades\" and assign it the sum of all the grades in the \"grades\" list.\n",
    "total_grades = grades[0]+grades[1]+grades[2]+grades[3]\n",
    "print (total_grades)\n",
    "print ('......................')\n",
    "total_grades = 0\n",
    "for i in grades:\n",
    "    total_grades += i\n",
    "print (total_grades)\n",
    "print ('......................')"
   ]
  },
  {
   "cell_type": "code",
   "execution_count": 26,
   "metadata": {},
   "outputs": [
    {
     "name": "stdout",
     "output_type": "stream",
     "text": [
      "78.75\n"
     ]
    }
   ],
   "source": [
    "# Create a variable called \"average_grade\" and assign it the average of the grades in the \"grades\" list.\n",
    "avg_grades = total_grades/(len(grades))\n",
    "print (avg_grades)"
   ]
  },
  {
   "cell_type": "code",
   "execution_count": 31,
   "metadata": {},
   "outputs": [
    {
     "name": "stdout",
     "output_type": "stream",
     "text": [
      "True\n"
     ]
    }
   ],
   "source": [
    "# Create a variable called \"is_tall\" and assign it a boolean value based on whether your height is above a certain threshold.\n",
    "your_height = float(input('Enter your height'))\n",
    "if your_height >= 175.5:\n",
    "    is_tall = True\n",
    "    print (is_tall)\n",
    "else:\n",
    "    is_tall = False\n",
    "    print (is_tall)\n",
    " \n",
    "\n"
   ]
  },
  {
   "cell_type": "code",
   "execution_count": 35,
   "metadata": {},
   "outputs": [
    {
     "name": "stdout",
     "output_type": "stream",
     "text": [
      "y\n"
     ]
    }
   ],
   "source": [
    "# Create a variable called \"first_letter\" and assign it the first letter of your name as a string.\n",
    "name = 'yogesh pareek'\n",
    "first_letter = name[0]\n",
    "print (first_letter)"
   ]
  },
  {
   "cell_type": "code",
   "execution_count": 38,
   "metadata": {},
   "outputs": [
    {
     "name": "stdout",
     "output_type": "stream",
     "text": [
      "k\n"
     ]
    }
   ],
   "source": [
    "# Create a variable called \"last_letter\" and assign it the last letter of your name as a string.\n",
    "name = 'yogesh pareek'\n",
    "last_letter = name[len(name)-(1)]\n",
    "print (last_letter)"
   ]
  },
  {
   "cell_type": "code",
   "execution_count": 39,
   "metadata": {},
   "outputs": [
    {
     "name": "stdout",
     "output_type": "stream",
     "text": [
      "13\n"
     ]
    }
   ],
   "source": [
    "# Create a variable called \"num_letters\" and assign it the number of letters in your name as an integer.\n",
    "name = 'yogesh pareek'\n",
    "number_of_letter = len(name)\n",
    "print (number_of_letter)"
   ]
  },
  {
   "cell_type": "code",
   "execution_count": 73,
   "metadata": {},
   "outputs": [
    {
     "name": "stdout",
     "output_type": "stream",
     "text": [
      "True\n",
      "True\n",
      "False\n",
      "True\n",
      "False\n"
     ]
    }
   ],
   "source": [
    "# Create a variable called \"has_vowel\" and assign it a boolean value based on whether your name contains any vowels.\n",
    "name = 'yogesh pareek'\n",
    "vowels = ['A','E','I','O','U']\n",
    "#print (name.upper())\n",
    "#i = 'YOGESH'\n",
    "#i.lower()\n",
    "#print (i)\n",
    "#print (i in name)\n",
    "for j in vowels:\n",
    "    j =j.lower()\n",
    "    print (j in name)"
   ]
  },
  {
   "cell_type": "code",
   "execution_count": 86,
   "metadata": {},
   "outputs": [
    {
     "name": "stdout",
     "output_type": "stream",
     "text": [
      "2\n"
     ]
    }
   ],
   "source": [
    "# Create a variable called \"num_vowels\" and assign it the number of vowels in your name as an integer.\n",
    "#x = 'A'\n",
    "#print (ord(x))\n",
    "#x = 65\n",
    "#print (chr(x))\n",
    "name = 'YOGESH'\n",
    "num_vowels = 0\n",
    "for char in name.lower():\n",
    "    if char in 'aeiou':\n",
    "        num_vowels += 1\n",
    "print (num_vowels)"
   ]
  },
  {
   "cell_type": "code",
   "execution_count": null,
   "metadata": {},
   "outputs": [],
   "source": [
    "# 14.Create a variable called \"formatted_name\" and assign it your name in all uppercase letters.\n",
    "formatted_name = 'YOGESH'\n"
   ]
  },
  {
   "cell_type": "code",
   "execution_count": 89,
   "metadata": {},
   "outputs": [
    {
     "name": "stdout",
     "output_type": "stream",
     "text": [
      "1.70688\n"
     ]
    }
   ],
   "source": [
    "# 15. Create a variable called \"formatted_height\" and assign it your height in centimeters by converting it from meters.\n",
    "height_cm = float(input())\n",
    "formatted_height = height_cm/100\n",
    "print (formatted_height)\n"
   ]
  },
  {
   "cell_type": "code",
   "execution_count": 91,
   "metadata": {},
   "outputs": [
    {
     "name": "stdout",
     "output_type": "stream",
     "text": [
      "True\n"
     ]
    }
   ],
   "source": [
    "# 16. Create a variable called \"can_drive\" and assign it a boolean value based on whether your age is above the legal driving age.\n",
    "your_age = int(input('enter your age'))\n",
    "valid_age = 18\n",
    "if your_age>=valid_age:\n",
    "    can_drive = True\n",
    "    print (can_drive)\n",
    "else:\n",
    "    can_drive = False\n",
    "    print (can_drive)"
   ]
  },
  {
   "cell_type": "code",
   "execution_count": 92,
   "metadata": {},
   "outputs": [
    {
     "name": "stdout",
     "output_type": "stream",
     "text": [
      "5\n"
     ]
    }
   ],
   "source": [
    "# 17.Create a variable called \"num_subjects\" and assign it the number of subjects you are studying as an integer.\n",
    "num_subjects = 5\n",
    "print (num_subjects)"
   ]
  },
  {
   "cell_type": "code",
   "execution_count": 97,
   "metadata": {},
   "outputs": [
    {
     "name": "stdout",
     "output_type": "stream",
     "text": [
      "your 33 is odd number\n"
     ]
    }
   ],
   "source": [
    "# Create a variable called \"is_even\" and assign it a boolean value based on whether your age is an even number.\n",
    "age = int(input('Enter your age'))\n",
    "if age%2==0:\n",
    "    print (f'your {age} is even number')\n",
    "else:\n",
    "    print (f'your {age} is odd number')"
   ]
  },
  {
   "cell_type": "code",
   "execution_count": 101,
   "metadata": {},
   "outputs": [
    {
     "name": "stdout",
     "output_type": "stream",
     "text": [
      "your -20 is negative number\n"
     ]
    }
   ],
   "source": [
    "# Create a variable called \"is_positive\" and assign it a boolean value based on whether your age is a positive number.\n",
    "age = int(input('Enter your age'))\n",
    "if age>0:\n",
    "    print (f'your {age} is positive number')\n",
    "elif age == 0:\n",
    "    print (f'your {age} is zero number')\n",
    "else:\n",
    "    print (f'your {age} is negative number')"
   ]
  },
  {
   "cell_type": "code",
   "execution_count": 102,
   "metadata": {},
   "outputs": [
    {
     "name": "stdout",
     "output_type": "stream",
     "text": [
      "Hello yogesh pareek\n"
     ]
    }
   ],
   "source": [
    "# Create a variable called \"greeting\" and assign it a string that says \"Hello\" followed by your name.\n",
    "name = 'yogesh pareek'\n",
    "print (f'Hello {name}')"
   ]
  },
  {
   "cell_type": "code",
   "execution_count": 105,
   "metadata": {},
   "outputs": [
    {
     "name": "stdout",
     "output_type": "stream",
     "text": [
      "the number of years left until you turn 65 is 39\n"
     ]
    }
   ],
   "source": [
    "# Create a variable called \"years_left\" and assign it the number of years left until you turn 65 (assuming you are below 65).\n",
    "age = int(input('Enter your age'))\n",
    "year = 65\n",
    "year_left = year - age\n",
    "print (f'the number of years left until you turn {year} is {year_left}')"
   ]
  },
  {
   "cell_type": "code",
   "execution_count": 106,
   "metadata": {},
   "outputs": [
    {
     "name": "stdout",
     "output_type": "stream",
     "text": [
      "85.0\n"
     ]
    }
   ],
   "source": [
    "# Create a variable called \"half_height\" and assign it half of your height.\n",
    "my_height_cm = 170\n",
    "half_height = my_height_cm/2\n",
    "print (half_height)"
   ]
  },
  {
   "cell_type": "code",
   "execution_count": null,
   "metadata": {},
   "outputs": [],
   "source": []
  }
 ],
 "metadata": {
  "kernelspec": {
   "display_name": "base",
   "language": "python",
   "name": "python3"
  },
  "language_info": {
   "codemirror_mode": {
    "name": "ipython",
    "version": 3
   },
   "file_extension": ".py",
   "mimetype": "text/x-python",
   "name": "python",
   "nbconvert_exporter": "python",
   "pygments_lexer": "ipython3",
   "version": "3.10.9"
  },
  "orig_nbformat": 4
 },
 "nbformat": 4,
 "nbformat_minor": 2
}
