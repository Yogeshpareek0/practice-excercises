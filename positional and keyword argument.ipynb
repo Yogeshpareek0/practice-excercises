{
 "cells": [
  {
   "cell_type": "code",
   "execution_count": 1,
   "id": "5e968346-6dfc-40bf-a962-d4bdbc4ab979",
   "metadata": {},
   "outputs": [
    {
     "name": "stdout",
     "output_type": "stream",
     "text": [
      "('krish', 'naik')\n",
      "{'age': 32, 'dob': 1989}\n"
     ]
    }
   ],
   "source": [
    "def hello (*args,**kwargs):\n",
    "    print (args)\n",
    "    print (kwargs)\n",
    "\n",
    "hello('krish','naik',age=32,dob = 1989)"
   ]
  },
  {
   "cell_type": "code",
   "execution_count": 3,
   "id": "86e4b34e-327f-4154-bbcb-6c2edc75baa9",
   "metadata": {},
   "outputs": [
    {
     "name": "stdout",
     "output_type": "stream",
     "text": [
      "(('krish', 'naik'), {'age': 32, 'dob': 1989})\n",
      "{}\n"
     ]
    }
   ],
   "source": [
    "def hello (*args,**kwargs):\n",
    "    print (args)\n",
    "    print (kwargs)\n",
    "\n",
    "#hello('krish','naik',age=32,dob = 1989)\n",
    "list_1 = (('krish','naik'))\n",
    "dict_1 = {'age':32,'dob':1989}\n",
    "hello (list_1,dict_1)"
   ]
  },
  {
   "cell_type": "code",
   "execution_count": 4,
   "id": "fc34eb2f-0425-423c-a1b3-c8d73e2b3f79",
   "metadata": {},
   "outputs": [
    {
     "name": "stdout",
     "output_type": "stream",
     "text": [
      "('krish', 'naik')\n",
      "{'age': 32, 'dob': 1989}\n"
     ]
    }
   ],
   "source": [
    "def hello (*args,**kwargs):\n",
    "    print (args)\n",
    "    print (kwargs)\n",
    "\n",
    "#hello('krish','naik',age=32,dob = 1989)\n",
    "list_1 = (('krish','naik'))\n",
    "dict_1 = {'age':32,'dob':1989}\n",
    "hello (*list_1,**dict_1)"
   ]
  },
  {
   "cell_type": "code",
   "execution_count": 6,
   "id": "bf600bf7-50d0-4a70-9dd1-0f04a3493485",
   "metadata": {},
   "outputs": [
    {
     "name": "stdout",
     "output_type": "stream",
     "text": [
      "('krish', 'naik', '10', '11')\n",
      "{'age': 32, 'dob': 1989}\n"
     ]
    }
   ],
   "source": [
    "def hello (*args,**kwargs):\n",
    "    print (args)\n",
    "    print (kwargs)\n",
    "\n",
    "hello('krish','naik','10','11',age=32,dob = 1989)\n",
    "#\n"
   ]
  },
  {
   "cell_type": "markdown",
   "id": "2b48951a-c89c-4e35-b7a7-b029ff8bd531",
   "metadata": {},
   "source": [
    "# 1. Write a function that takes two positional arguments, 'a' and 'b', and returns their sum."
   ]
  },
  {
   "cell_type": "code",
   "execution_count": 10,
   "id": "cc1405bd-86bb-4552-9fcb-45c6327801c4",
   "metadata": {},
   "outputs": [
    {
     "name": "stdout",
     "output_type": "stream",
     "text": [
      "30\n"
     ]
    }
   ],
   "source": [
    "def sum(a,b):\n",
    "    return a+b\n",
    "sum = sum(10,20)\n",
    "print(sum)"
   ]
  },
  {
   "cell_type": "markdown",
   "id": "6bcf4700-31e0-4f11-b5b6-e2ff4c5413f6",
   "metadata": {},
   "source": [
    "# 2. Create a function that accepts three positional arguments: name, age, and city. Print out a sentence that combines these arguments."
   ]
  },
  {
   "cell_type": "code",
   "execution_count": 11,
   "id": "19a723d8-61b0-439e-a144-96dea7bc9c83",
   "metadata": {},
   "outputs": [
    {
     "name": "stdout",
     "output_type": "stream",
     "text": [
      "yogesh is 26 years old and lives in jaipur\n"
     ]
    }
   ],
   "source": [
    "def print_person_info(name,age,city):\n",
    "    print (f'{name} is {age} years old and lives in {city}')\n",
    "print_person_info('yogesh',26,'jaipur')"
   ]
  },
  {
   "cell_type": "markdown",
   "id": "085ee770-fee4-47d0-9e94-3666a0308bab",
   "metadata": {},
   "source": [
    "# 3. Define a function that has a positional argument radius and a keyword argument pi with a default value of 3.14. The function should calculate and return the area of a circle using the formula pi * radius**2."
   ]
  },
  {
   "cell_type": "code",
   "execution_count": 22,
   "id": "0f30d32a-b685-4fd7-98da-7d5e213ea1c5",
   "metadata": {},
   "outputs": [
    {
     "name": "stdout",
     "output_type": "stream",
     "text": [
      "78.5\n"
     ]
    }
   ],
   "source": [
    "def circle_area(radius,pi=3.14):\n",
    "    print (pi*(radius**2))\n",
    "circle_area(5)"
   ]
  },
  {
   "cell_type": "markdown",
   "id": "18028773-2baa-4fa6-8a62-9ef5b968deaf",
   "metadata": {},
   "source": [
    "# 4. Write a function that accepts two positional arguments, base and exponent, and calculates and returns base raised to the power of exponent."
   ]
  },
  {
   "cell_type": "code",
   "execution_count": 25,
   "id": "c33a2599-c2bc-41b0-a66f-20880653f098",
   "metadata": {},
   "outputs": [
    {
     "name": "stdout",
     "output_type": "stream",
     "text": [
      "125\n"
     ]
    }
   ],
   "source": [
    "def calculation(base,exponent):\n",
    "    print (base**exponent)\n",
    "calculation(5,3)"
   ]
  },
  {
   "cell_type": "markdown",
   "id": "91bdeb12-733c-4c90-8d40-f1191b470170",
   "metadata": {},
   "source": [
    "# 5.Create a function that takes a keyword argument message with a default value of \"Hello, world!\". The function should print the value of message."
   ]
  },
  {
   "cell_type": "code",
   "execution_count": 27,
   "id": "9bf875e8-5ffc-49de-8f93-db89a1838f6e",
   "metadata": {},
   "outputs": [
    {
     "name": "stdout",
     "output_type": "stream",
     "text": [
      "hello, world! yogesh pareek\n",
      "hello, world! yogesh pareek\n"
     ]
    }
   ],
   "source": [
    "def name_with_hello(name):\n",
    "    print (f'hello, world! {name}')\n",
    "name = 'yogesh pareek'\n",
    "name_with_hello(name)\n",
    "#or\n",
    "def name_with_hello(name='yogesh pareek'):\n",
    "    print (f'hello, world! {name}')\n",
    "name_with_hello(name)\n",
    "\n"
   ]
  },
  {
   "cell_type": "markdown",
   "id": "4d3eddda-e1a4-46c0-8261-b502c5c50e7e",
   "metadata": {},
   "source": [
    "# 6. Define a function that accepts a positional argument string and a keyword argument separator with a default value of \"-\". The function should split string using separator and return the resulting list."
   ]
  },
  {
   "cell_type": "code",
   "execution_count": 53,
   "id": "4dd52ccd-a528-41d0-8eb3-6c27abc58292",
   "metadata": {},
   "outputs": [
    {
     "name": "stdout",
     "output_type": "stream",
     "text": [
      "['yogesh', 'pareek']\n"
     ]
    }
   ],
   "source": [
    "def split_str (name,separator=\"-\"):\n",
    "    return name.split(separator)\n",
    "split_str=split_str('yogesh-pareek')\n",
    "print (split_str)"
   ]
  },
  {
   "cell_type": "markdown",
   "id": "5e3a04d0-93c7-4f09-9a58-dffacf359d18",
   "metadata": {},
   "source": [
    "# 7. Write a function that takes two positional arguments, a and b, and a keyword argument operator with a default value of \"+\". The function should perform the arithmetic operation specified by operator on a and b and return the result."
   ]
  },
  {
   "cell_type": "code",
   "execution_count": 73,
   "id": "0bca4f49-fa17-404c-a9dd-a3ff24dfe5e1",
   "metadata": {},
   "outputs": [
    {
     "name": "stdout",
     "output_type": "stream",
     "text": [
      "120\n"
     ]
    }
   ],
   "source": [
    "def arithmatic_oprator(a,b,sum='+'):\n",
    "    if sum == \"+\":\n",
    "        return a + b\n",
    "sum = arithmatic_oprator(100 , 20)\n",
    "print (sum)"
   ]
  },
  {
   "cell_type": "markdown",
   "id": "779f2446-b8a9-417d-9ffe-8c0d82d1bd95",
   "metadata": {},
   "source": [
    "# 8. Create a function that accepts a positional argument numbers and a keyword argument sort with a default value of False. If sort is True, the function should return a sorted version of numbers; otherwise, it should return numbers as-is."
   ]
  },
  {
   "cell_type": "code",
   "execution_count": 80,
   "id": "78945671-c48e-42e7-bb4f-a514c5ae41b9",
   "metadata": {},
   "outputs": [
    {
     "name": "stdout",
     "output_type": "stream",
     "text": [
      "[1, 5, 3, 4, 6, 8, 3]\n",
      "[1, 3, 3, 4, 5, 6, 8]\n"
     ]
    }
   ],
   "source": [
    "def numbers_sort(numbers,sort=False):\n",
    "    if sort:\n",
    "        sorting_number = sorted(numbers)\n",
    "        return sorting_number\n",
    "    else:\n",
    "        return numbers\n",
    "list_1 =[1,5,3,4,6,8,3]\n",
    "sorting = numbers_sort(list_1)\n",
    "print (sorting)\n",
    "sorting = numbers_sort(list_1,sort=True)\n",
    "print (sorting)"
   ]
  },
  {
   "cell_type": "markdown",
   "id": "7516c6d3-67ed-4707-b7b4-3779535328a5",
   "metadata": {},
   "source": [
    "# 9.Define a function that has a positional argument first_name and multiple keyword arguments for contact information (email, phone, address). Print out the contact information in a formatted manner."
   ]
  },
  {
   "cell_type": "code",
   "execution_count": 104,
   "id": "b5cf2351-7864-4919-bd06-f8ac1b6ea6d6",
   "metadata": {},
   "outputs": [
    {
     "name": "stdout",
     "output_type": "stream",
     "text": [
      "contact information for yogesh pareek:\n",
      "Email: ykp@gmail.com\n",
      "Phone: 1234567891\n",
      "Address: jaipur\n"
     ]
    }
   ],
   "source": [
    "def contact_info(first_name,**contact_info):\n",
    "    print (f'contact information for {first_name}:')\n",
    "    print (f\"Email: {contact_info.get('email','n/a')}\")\n",
    "    print (f\"Phone: {contact_info.get('phone','n/a')}\")\n",
    "    print (f\"Address: {contact_info.get('address','n/a')}\")\n",
    "contact_info('yogesh pareek',email='ykp@gmail.com',phone=1234567891,address='jaipur')"
   ]
  },
  {
   "cell_type": "markdown",
   "id": "0429d010-f1e9-4a92-a380-9a0bb1b57de3",
   "metadata": {},
   "source": [
    "# 10. Write a function that takes a keyword argument items as a list and a positional argument separator with a default value of \", \". The function should join the elements of items into a single string using the separator and return the result."
   ]
  },
  {
   "cell_type": "code",
   "execution_count": 153,
   "id": "461638ac-b570-4e5d-9c04-a32df60302d0",
   "metadata": {},
   "outputs": [
    {
     "name": "stdout",
     "output_type": "stream",
     "text": [
      "y,o,g,e,s,h <class 'str'>\n"
     ]
    }
   ],
   "source": [
    "# separator.join(iterable)\n",
    "def string_sep(separator,item):\n",
    "    result = separator.join(item)\n",
    "    return result\n",
    "list_1 = ['y','o','g','e','s','h']\n",
    "string_sep = string_sep (',', list_1)\n",
    "print (string_sep,type(string_sep))"
   ]
  }
 ],
 "metadata": {
  "kernelspec": {
   "display_name": "Python 3 (ipykernel)",
   "language": "python",
   "name": "python3"
  },
  "language_info": {
   "codemirror_mode": {
    "name": "ipython",
    "version": 3
   },
   "file_extension": ".py",
   "mimetype": "text/x-python",
   "name": "python",
   "nbconvert_exporter": "python",
   "pygments_lexer": "ipython3",
   "version": "3.10.8"
  }
 },
 "nbformat": 4,
 "nbformat_minor": 5
}
