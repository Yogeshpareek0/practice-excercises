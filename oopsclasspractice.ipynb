{
 "cells": [
  {
   "cell_type": "markdown",
   "id": "f2238719-6170-4e0b-8bcf-a97e3ca887a8",
   "metadata": {},
   "source": [
    "# 1. What is the purpose of encapsulation in Python?\n",
    "# data hiding\n",
    "# access control\n",
    "# Modularity and Maintainability\n",
    "# Code Reusability\n",
    "# Abstraction"
   ]
  },
  {
   "cell_type": "markdown",
   "id": "657e4508-608c-4e96-9e42-606e4abb45dc",
   "metadata": {},
   "source": [
    "# 2.Explain the concept of inheritance in Python with an example."
   ]
  },
  {
   "cell_type": "markdown",
   "id": "d9b9f43f-b750-4274-8dad-1758fa7e405a",
   "metadata": {},
   "source": [
    "# Inheritance is a fundamental concept in object-oriented programming that allows a class to inherit properties and behaviors from another class. The class that inherits is called the \"subclass\" or \"derived class,\" and the class from which it inherits is called the \"superclass\" or \"base class.\" "
   ]
  },
  {
   "cell_type": "code",
   "execution_count": 39,
   "id": "c764e27c-f82c-4449-8182-fdf9b8b2a813",
   "metadata": {},
   "outputs": [
    {
     "name": "stdout",
     "output_type": "stream",
     "text": [
      "my name is yogesh and age is 26.\n"
     ]
    }
   ],
   "source": [
    "class person:\n",
    "    def __init__(self,name,age):\n",
    "        self.name = name\n",
    "        self.age = age\n",
    "    def display(self):\n",
    "        print (f'my name is {self.name} and age is {self.age}.')\n",
    "class male(person):\n",
    "    def __init__(self,name,age):\n",
    "        super().__init__(name,age)\n",
    "    def display_info(self):\n",
    "        super().display()\n",
    "class female(person):\n",
    "    def __init__(self,name,age):\n",
    "        super().__init__(name,age)\n",
    "    def display_info(self):\n",
    "        super().display()\n",
    "\n",
    "female = female('yogesh',26)\n",
    "female.display_info()\n"
   ]
  },
  {
   "cell_type": "markdown",
   "id": "f4c273eb-bb34-4ef0-a1dd-1b21f04d84fa",
   "metadata": {},
   "source": [
    "# 3. What are the advantages of using inheritance?"
   ]
  },
  {
   "cell_type": "markdown",
   "id": "23c3d350-5017-41c0-a11d-fdde8adda319",
   "metadata": {},
   "source": [
    "# code reusability\n",
    "# Modularity and Organization\n",
    "# Extensibility\n",
    "# Polymorphism\n",
    "# Maintainability and Scalability\n",
    "# Abstraction and Encapsulation"
   ]
  },
  {
   "cell_type": "markdown",
   "id": "8591c76a-b295-4033-b6d7-630f716a3277",
   "metadata": {},
   "source": [
    "# 4.What is method overriding in Python?"
   ]
  },
  {
   "cell_type": "markdown",
   "id": "e1df517c-8469-4dc6-9b1e-15da0a670ad9",
   "metadata": {},
   "source": [
    "# Method overriding is a concept in object-oriented programming where a subclass provides its own implementation of a method that is already defined in its superclass. It allows the subclass to change or extend the behavior of the inherited method to suit its specific needs"
   ]
  },
  {
   "cell_type": "code",
   "execution_count": 43,
   "id": "bf0534a5-4322-48ce-8f3c-334e902bf8b7",
   "metadata": {},
   "outputs": [
    {
     "name": "stdout",
     "output_type": "stream",
     "text": [
      "my name is yogesh and age is 26.\n",
      "i am working now in vinayak stonex\n"
     ]
    }
   ],
   "source": [
    "class person:\n",
    "    def __init__(self,name,age):\n",
    "        self.name = name\n",
    "        self.age = age\n",
    "    def display(self):\n",
    "        print (f'my name is {self.name} and age is {self.age}.')\n",
    "class male(person):\n",
    "    def __init__(self,name,age,company_name):\n",
    "        super().__init__(name,age)\n",
    "        self.company_name = company_name\n",
    "    def display(self):                \n",
    "        super().display()\n",
    "        print (f'i am working now in {self.company_name}')\n",
    "\n",
    "male = male('yogesh',26,'vinayak stonex')\n",
    "male.display()\n",
    "#here we are overriding '__init__ and display' methode."
   ]
  },
  {
   "cell_type": "markdown",
   "id": "9863b81c-8dd6-43fc-8a3e-39a69d6f138c",
   "metadata": {},
   "source": [
    "# 5.How can you achieve multiple inheritance in Python?"
   ]
  },
  {
   "cell_type": "markdown",
   "id": "3728c224-bfe3-466d-8b26-36b4ab8e3de7",
   "metadata": {},
   "source": [
    "# In Python, multiple inheritance allows a class to inherit from more than one superclass. This means that a subclass can inherit attributes and methods from multiple parent classes, combining their functionality into a single class."
   ]
  },
  {
   "cell_type": "code",
   "execution_count": 46,
   "id": "e4d19099-2cf8-40bc-8ccf-d8817302609c",
   "metadata": {},
   "outputs": [
    {
     "name": "stdout",
     "output_type": "stream",
     "text": [
      "animal is eating\n",
      "flying\n"
     ]
    }
   ],
   "source": [
    "class animal:\n",
    "    def __init__(self):\n",
    "        pass\n",
    "    def eat(self):\n",
    "        print ('animal is eating')\n",
    "class flying:\n",
    "    def __init__(self):\n",
    "        pass\n",
    "    def fly(self):                \n",
    "        print ('flying')\n",
    "class bird(animal,flying):\n",
    "    def __init__(self):\n",
    "        pass\n",
    "    def display():\n",
    "        super().fly()\n",
    "        super().eat()\n",
    "\n",
    "bird = bird()\n",
    "bird.eat()\n",
    "bird.fly()"
   ]
  },
  {
   "cell_type": "markdown",
   "id": "0be3acb4-d1b2-49c1-9375-12d5eafc7e04",
   "metadata": {},
   "source": [
    "# 6. What is the purpose of the super() function in Python?"
   ]
  },
  {
   "cell_type": "markdown",
   "id": "9b34ddf3-5f7e-4449-bfc9-0952dc49b943",
   "metadata": {},
   "source": [
    "# The super() function in Python is used to call a method or access an attribute in a subclass from a baseclass. It provides a way to explicitly refer to the superclass and invoke its methods or access its attributes."
   ]
  },
  {
   "cell_type": "markdown",
   "id": "b781b18b-bd05-4956-bf28-674c8393b45b",
   "metadata": {},
   "source": [
    "# 7. Explain the difference between class variables and instance variables."
   ]
  },
  {
   "cell_type": "markdown",
   "id": "32833ed5-9e89-498c-beef-89dbe4839642",
   "metadata": {},
   "source": [
    "# Class Variables:\n",
    "## Class variables are defined within the class but outside any instance methods.\n",
    "## They are shared among all instances of the class and are accessible using the class name or any instance of the class.\n",
    "## Class variables are defined once and are the same for all instances of the class.\n",
    "## They are typically used to store data that is common to all instances, such as default values or shared attributes.\n",
    "## They can be accessed and modified using the class name or any instance of the class.\n",
    "\n",
    "\n",
    "# Instance Variables:-\n",
    "## Instance variables are specific to each instance of a class.\n",
    "## They are defined within the instance methods or the __init__() method of the class.\n",
    "## Each instance of the class has its own copy of instance variables, and changes made to these variables affect only that specific instance.\n",
    "## Instance variables are used to store data that is unique to each instance, such as individual object attributes or instance-specific states."
   ]
  },
  {
   "cell_type": "markdown",
   "id": "c776c042-64b0-4c83-83f8-45bf2457acab",
   "metadata": {},
   "source": [
    "# 8. What is the purpose of the self parameter in Python class methods?"
   ]
  },
  {
   "cell_type": "markdown",
   "id": "1bc9779d-f099-4a93-bd10-a2cd9ff6319d",
   "metadata": {},
   "source": [
    "# In Python class methods, the self parameter is a conventionally used parameter that represents the instance of the class. It is the first parameter of instance methods and is automatically passed when the method is called on an object of the class. The self parameter allows instance methods to access and manipulate the attributes."
   ]
  },
  {
   "cell_type": "code",
   "execution_count": 49,
   "id": "0298e7c0-26c7-4945-81e9-974829419a1a",
   "metadata": {},
   "outputs": [
    {
     "name": "stdout",
     "output_type": "stream",
     "text": [
      "my name is yogesh and age is 26.\n",
      "i am working now in vinayak stonex\n"
     ]
    }
   ],
   "source": [
    " class person:\n",
    "    def __init__(self,name,age):\n",
    "        self.name = name \n",
    "        self.age = age\n",
    "    def display(self):\n",
    "        print (f'my name is {self.name} and age is {self.age}.')\n",
    "class male(person):\n",
    "    def __init__(self,name,age,company_name):\n",
    "        super().__init__(name,age)\n",
    "        self.company_name = company_name\n",
    "    def display(self):                \n",
    "        super().display()\n",
    "        print (f'i am working now in {self.company_name}')\n",
    "\n",
    "male = male('yogesh',26,'vinayak stonex')\n",
    "male.display()"
   ]
  },
  {
   "cell_type": "markdown",
   "id": "712fed59-805a-4f4e-baa1-ffdda56290ae",
   "metadata": {},
   "source": [
    "# 9.How do you create an object of a class in Python?"
   ]
  },
  {
   "cell_type": "code",
   "execution_count": 51,
   "id": "8682706f-9e3a-47aa-a411-73f4b847cb70",
   "metadata": {},
   "outputs": [
    {
     "name": "stdout",
     "output_type": "stream",
     "text": [
      "The red Toyota is driving.\n"
     ]
    }
   ],
   "source": [
    "class Car:\n",
    "    def __init__(self, brand, color):\n",
    "        self.brand = brand\n",
    "        self.color = color\n",
    "\n",
    "    def drive(self):\n",
    "        print(f\"The {self.color} {self.brand} is driving.\")\n",
    "\n",
    "# Create an object of the Car class\n",
    "car1 = Car(\"Toyota\", \"red\")\n",
    "car1.drive()"
   ]
  },
  {
   "cell_type": "markdown",
   "id": "00550e1c-78f1-4bbc-a46f-06e8b229bd78",
   "metadata": {},
   "source": [
    "# 10. What is the difference between a class method and an instance method?"
   ]
  },
  {
   "cell_type": "markdown",
   "id": "17dba19d-f286-44f9-aefd-b34093da653f",
   "metadata": {},
   "source": [
    "# instance method :-\n",
    "# Instance methods can access and modify the instance-specific data (attributes) of an object.\n",
    "# They are typically used to perform actions or computations specific to each instance.\n",
    "# To invoke an instance method, you need to create an object of the class and call the method on that object.\n",
    "# Instance methods are bound to the instance on which they are called, allowing them to access instance variables and other instance methods."
   ]
  },
  {
   "cell_type": "markdown",
   "id": "a170233a",
   "metadata": {},
   "source": [
    "# class method :\n",
    "# A class method is a function defined within a class that operates on the class itself, rather than individual instances of the class.\n",
    "# Class methods are defined using the @classmethod decorator in languages like Python.\n",
    "# They can access and modify class-level data (attributes) and perform operations that are not specific to any particular instance.\n",
    "# Class methods are often used to create utility functions, perform setup tasks, or provide alternative constructors.\n",
    "# Class methods can also be overridden in subclasses, allowing for polymorphism."
   ]
  },
  {
   "cell_type": "markdown",
   "id": "74db08b0",
   "metadata": {},
   "source": []
  }
 ],
 "metadata": {
  "kernelspec": {
   "display_name": "Python 3 (ipykernel)",
   "language": "python",
   "name": "python3"
  },
  "language_info": {
   "codemirror_mode": {
    "name": "ipython",
    "version": 3
   },
   "file_extension": ".py",
   "mimetype": "text/x-python",
   "name": "python",
   "nbconvert_exporter": "python",
   "pygments_lexer": "ipython3",
   "version": "3.10.8"
  }
 },
 "nbformat": 4,
 "nbformat_minor": 5
}
