{
 "cells": [
  {
   "cell_type": "markdown",
   "id": "0a1f4765-c7ea-4f79-acb4-ab502a2e2f34",
   "metadata": {},
   "source": [
    "# file handling\n",
    "# File handling in Python refers to the process of working with files, including reading from and writing to files. "
   ]
  },
  {
   "cell_type": "markdown",
   "id": "8e987383-9d84-432f-b032-f10003af220b",
   "metadata": {},
   "source": [
    "# Opening a File:\n",
    "\n",
    "# Use the open() function to open a file. It takes the file path, mode, and encoding (optional) as parameters.\n",
    "# Reading from a File:\n",
    "\n",
    "# Use the read() method to read the entire contents of a file as a single string.\n",
    "# Use the readline() method to read a single line from the file.\n",
    "# Use the readlines() method to read all lines from the file and return them as a list.\n",
    "# Writing to a File:\n",
    "\n",
    "# Use the write() method to write a string to the file.\n",
    "# Use the writelines() method to write a list of strings to the file.\n",
    "# Appending to a File:\n",
    "\n",
    "# Open the file in append mode by passing 'a' as the mode when using the open() function.\n",
    "# Use the write() method or writelines() method to append data to the file.\n",
    "# Closing a File:\n",
    "\n",
    "# Close the file using the close() method to free up system resources.\n",
    "# Alternatively, use the with statement to automatically close the file."
   ]
  },
  {
   "cell_type": "code",
   "execution_count": 83,
   "id": "6117540c-134e-467f-9a70-37b5a08de52f",
   "metadata": {},
   "outputs": [],
   "source": [
    "# Writing to a file\n",
    "with open('yogesh_pareek.txt', 'w') as file:\n",
    "    file.write('Hello, world!\\n')\n",
    "    file.write('This is a new line.\\n')\n",
    "    file.write('i am yogesh pareek')\n",
    "\n",
    "# Reading from a file \n",
    "#with open('yogesh.txt', 'r') as file:\n",
    "    #contents = file.read()\n",
    "    #print(contents)\n"
   ]
  },
  {
   "cell_type": "code",
   "execution_count": 84,
   "id": "ce53ab41-a92b-4203-abd2-b31697f495a5",
   "metadata": {},
   "outputs": [
    {
     "name": "stdout",
     "output_type": "stream",
     "text": [
      "Hello, world!\n",
      "This is a new line.\n",
      "i am yogesh pareekthis is my append in file \n",
      "\n"
     ]
    }
   ],
   "source": [
    "with open('yogesh_pareek.txt','a') as f:\n",
    "    f.write(\"this is my append in file \\n\")\n",
    "with open('yogesh_pareek.txt','r') as f:\n",
    "    text = f.read()\n",
    "    print (text)"
   ]
  },
  {
   "cell_type": "markdown",
   "id": "c7a6be68-7d79-4ed4-9867-d25bc5017cae",
   "metadata": {},
   "source": [
    "# 1.Write a Python program to handle a FileNotFoundError exception and display a custom error message if the file is not found."
   ]
  },
  {
   "cell_type": "code",
   "execution_count": 110,
   "id": "49c92e63-e290-4055-b8d2-626ca6830551",
   "metadata": {},
   "outputs": [
    {
     "name": "stdin",
     "output_type": "stream",
     "text": [
      "Enter the file path:  yogeshpareek.txt\n"
     ]
    },
    {
     "name": "stdout",
     "output_type": "stream",
     "text": [
      "Hello, world!\n",
      "\n"
     ]
    }
   ],
   "source": [
    "#if file available at the path\n",
    "file_path = input(\"Enter the file path: \")\n",
    "\n",
    "try:\n",
    "    with open(file_path,'r') as file:\n",
    "        text = file.read()\n",
    "        print (text)\n",
    "        # Perform operations with the file\n",
    "        # ...\n",
    "except FileNotFoundError:\n",
    "    print(f\"Error: File '{file_path}' not found.\")\n"
   ]
  },
  {
   "cell_type": "code",
   "execution_count": 111,
   "id": "f59fc346-b0ca-4ab7-87e8-fe9aa334460c",
   "metadata": {},
   "outputs": [
    {
     "name": "stdin",
     "output_type": "stream",
     "text": [
      "Enter the file path:  abcd\n"
     ]
    },
    {
     "name": "stdout",
     "output_type": "stream",
     "text": [
      "Error: File 'abcd' not found.\n"
     ]
    }
   ],
   "source": [
    "#if file not available at the path\n",
    "file_path = input(\"Enter the file path: \")\n",
    "\n",
    "try:\n",
    "    with open(file_path,'r') as file:\n",
    "        text = file.read()\n",
    "        print (text)\n",
    "        # Perform operations with the file\n",
    "        # ...\n",
    "except FileNotFoundError:\n",
    "    print(f\"Error: File '{file_path}' not found.\")\n"
   ]
  },
  {
   "cell_type": "markdown",
   "id": "16f4ebeb-9239-4673-be64-5e844e7acced",
   "metadata": {},
   "source": [
    "# 2.Create a function that takes two integers as input and performs division. Handle the ZeroDivisionError exception and display a message if the second number is zero."
   ]
  },
  {
   "cell_type": "code",
   "execution_count": 115,
   "id": "4cbccd63-a1a3-4e71-8585-b511c81bcb66",
   "metadata": {},
   "outputs": [
    {
     "name": "stdin",
     "output_type": "stream",
     "text": [
      "Enter the first number:  10\n",
      "Enter the second number:  0\n"
     ]
    },
    {
     "name": "stdout",
     "output_type": "stream",
     "text": [
      "first number is : 10\n",
      "second number is : 0\n",
      "Error: cannot divide any number to zero\n"
     ]
    }
   ],
   "source": [
    "num = int(input(\"Enter the first number: \"))\n",
    "num2 = int(input(\"Enter the second number: \"))\n",
    "\n",
    "try:\n",
    "    print (f'first number is : {num}')\n",
    "    print (f'second number is : {num2}')\n",
    "    result = num/num2\n",
    "    print (f'result : {result}')        \n",
    "except ZeroDivisionError:\n",
    "    print(f\"Error: cannot divide any number to zero\")\n"
   ]
  },
  {
   "cell_type": "code",
   "execution_count": null,
   "id": "3f7db3ae-9525-4387-b8b5-3aa851a254a9",
   "metadata": {},
   "outputs": [],
   "source": []
  },
  {
   "cell_type": "markdown",
   "id": "43849984-7cc1-481a-b3a3-8d0b62c495ff",
   "metadata": {},
   "source": [
    "# 3.Write a program that prompts the user to enter a number. Handle the ValueError exception and display a message if the input is not a valid integer."
   ]
  },
  {
   "cell_type": "code",
   "execution_count": 165,
   "id": "a8153a3f-3ecb-4a18-be79-15b4d4fe2800",
   "metadata": {},
   "outputs": [
    {
     "name": "stdin",
     "output_type": "stream",
     "text": [
      "Enter the first number:  01\n",
      "Enter the second number:  k\n"
     ]
    },
    {
     "name": "stdout",
     "output_type": "stream",
     "text": [
      "invalid literal for int() with base 10: 'k'\n"
     ]
    }
   ],
   "source": [
    "\n",
    "try:\n",
    "    num = int(input(\"Enter the first number: \"))\n",
    "    num2 = int(input(\"Enter the second number: \"))\n",
    "\n",
    "    #print (f'first number is : {num}')\n",
    "    #print (f'second number is : {num2}')\n",
    "    #result = num/num2\n",
    "    #print (f'result : {result}') \n",
    "    print (num/num2)   \n",
    "except ValueError as e:\n",
    "    print(str(e))"
   ]
  },
  {
   "cell_type": "markdown",
   "id": "3c2e22f7-5ebb-4cc4-9053-4a3d56a79c69",
   "metadata": {},
   "source": [
    "# 4.Create a function that opens a file, reads its contents, and closes the file. Handle the FileNotFoundError and IOError exceptions and display an appropriate message if any error occurs."
   ]
  },
  {
   "cell_type": "code",
   "execution_count": 174,
   "id": "c606eb0c-48eb-428d-a7da-cddad5789910",
   "metadata": {},
   "outputs": [
    {
     "name": "stdout",
     "output_type": "stream",
     "text": [
      "not found the file , [Errno 2] No such file or directory: 'xyz.txt'\n"
     ]
    }
   ],
   "source": [
    "try:\n",
    "    with open('xyz.txt','r') as f:\n",
    "        contents = f.read()\n",
    "        print (contents)\n",
    "except FileNotFoundError as e:\n",
    "    print(f\"not found the file , {str(e)}\")\n"
   ]
  },
  {
   "cell_type": "markdown",
   "id": "38ff0408-02de-4240-a161-eb68c6a654c9",
   "metadata": {},
   "source": [
    "# 5. Write a program that attempts to open a file and read its contents. Handle the PermissionError exception and display a custom error message if the user doesn't have permission to access the file."
   ]
  },
  {
   "cell_type": "code",
   "execution_count": 178,
   "id": "c47b88e3-4b0d-41e1-87c7-48f20041887b",
   "metadata": {},
   "outputs": [
    {
     "name": "stdout",
     "output_type": "stream",
     "text": [
      "[Errno 13] Permission denied: 'yogeshpareek.txt'\n"
     ]
    }
   ],
   "source": [
    "try:\n",
    "    with open('yogeshpareek.txt','r') as f:\n",
    "            contents = f.read()\n",
    "            print (contents)\n",
    "except PermissionError as e:\n",
    "    print (str(e))\n",
    "    "
   ]
  },
  {
   "cell_type": "markdown",
   "id": "9ca26f34-5ac5-45c3-91df-8affe42f34e9",
   "metadata": {},
   "source": [
    "# 6. Create a function that accepts a string as input and converts it to an integer. Handle the ValueError exception and return a default value of 0 if the conversion fails."
   ]
  },
  {
   "cell_type": "code",
   "execution_count": 194,
   "id": "65a7fae0-b33b-4454-a024-adebada1cf4e",
   "metadata": {},
   "outputs": [
    {
     "name": "stdin",
     "output_type": "stream",
     "text": [
      "enter a number :-   g\n"
     ]
    },
    {
     "name": "stdout",
     "output_type": "stream",
     "text": [
      "invalid literal for int() with base 10: 'g'\n",
      "the conversion is failed and the defaut value is 0.\n"
     ]
    }
   ],
   "source": [
    "try:\n",
    "    num = int(input('enter a number :-  '))\n",
    "    print (num)\n",
    "except ValueError as e:\n",
    "    print (str(e))\n",
    "    num = 0\n",
    "    print (f\"the conversion is failed and the defaut value is {num}.\")\n",
    "    "
   ]
  },
  {
   "cell_type": "markdown",
   "id": "4c7e338e-01ca-4d99-b4ea-fdecdd06c149",
   "metadata": {},
   "source": [
    "# 7.Write a program that divides two numbers and displays the result. Handle all possible exceptions that may occur during the division and display custom error messages accordingly."
   ]
  },
  {
   "cell_type": "code",
   "execution_count": 192,
   "id": "f8167ee1-79cd-4c63-8662-1b7ed81b9c2e",
   "metadata": {},
   "outputs": [
    {
     "name": "stdin",
     "output_type": "stream",
     "text": [
      "enter first number 2\n",
      "enter second number 2\n"
     ]
    },
    {
     "name": "stdout",
     "output_type": "stream",
     "text": [
      "1.0\n"
     ]
    }
   ],
   "source": [
    "try:\n",
    "    num1 = int(input(\"enter first number\"))\n",
    "    num2 = int(input(\"enter second number\"))\n",
    "    result = num1/num2\n",
    "    print (result)\n",
    "except ZeroDivisionError:\n",
    "    print ('cannot divide any number to zero')\n",
    "except ValueError:\n",
    "    print ('given a correct int. value')\n",
    "except exception as e:\n",
    "    print (str(e))"
   ]
  },
  {
   "cell_type": "markdown",
   "id": "bf36e305-790a-40c4-aa82-a71be7577745",
   "metadata": {},
   "source": [
    "# 8.Create a function that takes a list as input and attempts to access an element at an invalid index. Handle the IndexError exception and display a message if the index is out of range."
   ]
  },
  {
   "cell_type": "code",
   "execution_count": 205,
   "id": "59a91d47-52a9-44aa-aa0b-6a2a1d37739b",
   "metadata": {},
   "outputs": [
    {
     "name": "stdout",
     "output_type": "stream",
     "text": [
      "6\n"
     ]
    }
   ],
   "source": [
    "#if found no error\n",
    "try:\n",
    "    def invalidindexnumber(list1):\n",
    "        return list1[4]\n",
    "    listvalue = [1,1,3,5,6]\n",
    "    indexfunction = invalidindexnumber(listvalue)\n",
    "    print (indexfunction)\n",
    "except IndexError as e:\n",
    "    print (str(e))"
   ]
  },
  {
   "cell_type": "code",
   "execution_count": 207,
   "id": "0c6c5c4a-6089-46b5-858f-d38bc5766704",
   "metadata": {},
   "outputs": [
    {
     "name": "stdout",
     "output_type": "stream",
     "text": [
      "list index out of range\n"
     ]
    }
   ],
   "source": [
    "#if found error\n",
    "try:\n",
    "    def invalidindexnumber(list1):\n",
    "        return list1[20]\n",
    "    listvalue = [1,1,3,5,6]\n",
    "    indexfunction = invalidindexnumber(listvalue)\n",
    "    print (indexfunction)\n",
    "except IndexError as e:\n",
    "    print (str(e))"
   ]
  },
  {
   "cell_type": "markdown",
   "id": "bebb3229-9506-4478-807f-b5f796fa129a",
   "metadata": {},
   "source": [
    "# 9. Write a program that prompts the user to enter a file name and opens the file. Handle the FileNotFoundError exception and allow the user to re-enter the file name until a valid file is found."
   ]
  },
  {
   "cell_type": "code",
   "execution_count": 1,
   "id": "a9d515d2-35f0-4f1d-aff9-7dd426a509f1",
   "metadata": {},
   "outputs": [
    {
     "name": "stdin",
     "output_type": "stream",
     "text": [
      " yogesh\n"
     ]
    },
    {
     "name": "stdout",
     "output_type": "stream",
     "text": [
      "File does not exist.\n"
     ]
    },
    {
     "name": "stdin",
     "output_type": "stream",
     "text": [
      " yogesh_pareek.txt\n"
     ]
    },
    {
     "name": "stdout",
     "output_type": "stream",
     "text": [
      "\n"
     ]
    }
   ],
   "source": [
    "import os\n",
    "while True:\n",
    "    file = input()\n",
    "    try:\n",
    "        file_path = file\n",
    "            \n",
    "        if os.path.isfile(file_path):\n",
    "            with open(file_path,'r') as f:\n",
    "                text = f.read()\n",
    "                print (text)\n",
    "            break\n",
    "        else:\n",
    "            print(\"File does not exist.\")\n",
    "    except exception as e:\n",
    "        print (str(e))"
   ]
  },
  {
   "cell_type": "markdown",
   "id": "5716a761-5f27-4659-948b-025b47458379",
   "metadata": {},
   "source": [
    "# 10.Create a function that performs a risky operation and raises a custom exception if a certain condition is met. Handle the custom exception and display a message if it occurs during the function execution."
   ]
  },
  {
   "cell_type": "code",
   "execution_count": 32,
   "id": "73dc56c2-7aea-4cb3-9821-5d3540b38d9b",
   "metadata": {},
   "outputs": [
    {
     "name": "stdin",
     "output_type": "stream",
     "text": [
      "enter a number -1\n"
     ]
    },
    {
     "name": "stdout",
     "output_type": "stream",
     "text": [
      "the number is less than zero\n"
     ]
    }
   ],
   "source": [
    "class CustomException(Exception):\n",
    "    pass\n",
    "try:\n",
    "    input1 = int(input('enter a number'))\n",
    "    if input1<0:\n",
    "        raise CustomException('the number is less than zero')\n",
    "    result = 100/input1\n",
    "    print (result)\n",
    "except CustomException as error:\n",
    "    print (error)\n",
    "except ZeroDivisionError as e:\n",
    "    print (str(e))\n",
    "\n"
   ]
  }
 ],
 "metadata": {
  "kernelspec": {
   "display_name": "Python 3 (ipykernel)",
   "language": "python",
   "name": "python3"
  },
  "language_info": {
   "codemirror_mode": {
    "name": "ipython",
    "version": 3
   },
   "file_extension": ".py",
   "mimetype": "text/x-python",
   "name": "python",
   "nbconvert_exporter": "python",
   "pygments_lexer": "ipython3",
   "version": "3.10.8"
  }
 },
 "nbformat": 4,
 "nbformat_minor": 5
}
