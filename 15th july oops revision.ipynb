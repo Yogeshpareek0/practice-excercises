{
 "cells": [
  {
   "cell_type": "code",
   "execution_count": 4,
   "id": "69178148-63de-4f14-a945-05775af6b047",
   "metadata": {},
   "outputs": [
    {
     "name": "stdout",
     "output_type": "stream",
     "text": [
      "object created\n",
      "here is a value of <__main__.emp object at 0x000002006ABAB280>\n",
      "here is a proper id of 2200813875840\n"
     ]
    }
   ],
   "source": [
    "class emp():\n",
    "    def __init__(self):\n",
    "        print ('object created')\n",
    "    def test(self):\n",
    "        print (f'here is a value of {self}')\n",
    "        print (f'here is a proper id of {id(self)}')\n",
    "    def demo(self):\n",
    "        print ('checking')\n",
    "emp = emp()\n",
    "emp.test()"
   ]
  },
  {
   "cell_type": "code",
   "execution_count": 9,
   "id": "9e97b8fb-6214-46b4-afac-694f1e059d3e",
   "metadata": {},
   "outputs": [
    {
     "name": "stdout",
     "output_type": "stream",
     "text": [
      "26\n",
      "yogesh\n",
      "25000\n"
     ]
    }
   ],
   "source": [
    "class emp:\n",
    "    def __init__ (self):\n",
    "        self.age = 26\n",
    "        self.name = 'yogesh'\n",
    "        self.salary = 25000\n",
    "emp = emp()\n",
    "print (emp.age)\n",
    "print (emp.name)\n",
    "print (emp.salary)"
   ]
  },
  {
   "cell_type": "code",
   "execution_count": 13,
   "id": "e69c1496-fc56-422c-aa5f-069b8b8e567c",
   "metadata": {},
   "outputs": [
    {
     "name": "stdout",
     "output_type": "stream",
     "text": [
      "my name is yogesh kumar pareek,age is 26 and salary is 15000\n"
     ]
    }
   ],
   "source": [
    "class emp:\n",
    "    def __init__(self,a,b,c):\n",
    "        self.name = a\n",
    "        self.age = b\n",
    "        self.salary = c\n",
    "    def show(self):\n",
    "        print (f'my name is {self.name},age is {self.age} and salary is {self.salary}')\n",
    "emp = emp('yogesh kumar pareek',26,15000)\n",
    "emp.show()"
   ]
  },
  {
   "cell_type": "code",
   "execution_count": 21,
   "id": "a07b2885-d285-4f89-b144-81c1a45fcfbd",
   "metadata": {},
   "outputs": [
    {
     "name": "stdout",
     "output_type": "stream",
     "text": [
      "top speed 180km/h fuel_capacity 15 disk_break yes\n",
      "you can drive, your age is 18\n"
     ]
    }
   ],
   "source": [
    "class car:\n",
    "    def __init__(self,a,b,c):\n",
    "        self.top_speed = a\n",
    "        self.fuel_capacity = b\n",
    "        self.disk_break = c\n",
    "    def show(self):\n",
    "        print (f'top speed {self.top_speed} fuel_capacity {self.fuel_capacity} disk_break {self.disk_break}')\n",
    "    def drive (self,x):\n",
    "        if x>=18:\n",
    "            print (f'you can drive, your age is {x}')\n",
    "        else:\n",
    "            print (f'you can not drive bcz your age is less than 18')\n",
    "mycar = car('180km/h',15,'yes')\n",
    "mycar.show()\n",
    "mycar.drive(18)"
   ]
  },
  {
   "cell_type": "code",
   "execution_count": 40,
   "id": "e1844868-c8c0-4a00-bd29-acef19b879b9",
   "metadata": {},
   "outputs": [
    {
     "name": "stdout",
     "output_type": "stream",
     "text": [
      "enter a number 10\n"
     ]
    },
    {
     "name": "stdout",
     "output_type": "stream",
     "text": [
      "10\n",
      "area : 314.1592653589793\n",
      "circum : 62.83185307179586\n"
     ]
    }
   ],
   "source": [
    "import math\n",
    "class circle:\n",
    "    def __init__(self,r):\n",
    "        self.radius = r\n",
    "        print (f'{self.radius}')\n",
    "    def cal_area(self):\n",
    "        self.area = math.pi*(self.radius**2)\n",
    "    def cal_circum(self):\n",
    "        self.circum = 2*math.pi*self.radius\n",
    "    def display(self):\n",
    "        print (f\"area : {self.area}\")\n",
    "        print (f\"circum : {self.circum}\")\n",
    "radius = int(input(\"enter a number\"))\n",
    "calculation_math = circle(radius)\n",
    "calculation_math.cal_area()\n",
    "calculation_math.cal_circum()\n",
    "calculation_math.display()\n",
    "\n",
    "\n",
    "\n",
    "\n"
   ]
  },
  {
   "cell_type": "code",
   "execution_count": 45,
   "id": "a10a381e-5a14-4dc1-a3ef-ccf77c3e6097",
   "metadata": {},
   "outputs": [
    {
     "name": "stdout",
     "output_type": "stream",
     "text": [
      "yogesh 20000\n"
     ]
    }
   ],
   "source": [
    "class emp:\n",
    "    def __init__(self):\n",
    "        # here both name and salary variable are local variable\n",
    "        self.name = 'yogesh'\n",
    "        self.salary = 20000\n",
    "    def show(self):\n",
    "        print (f'{self.name} {self.salary}')\n",
    "emp = emp()\n",
    "emp.show()\n"
   ]
  },
  {
   "cell_type": "code",
   "execution_count": 48,
   "id": "49f1afdb-07d9-4a70-aaa6-adac420b5f8e",
   "metadata": {},
   "outputs": [
    {
     "name": "stdout",
     "output_type": "stream",
     "text": [
      "20\n",
      "15\n"
     ]
    }
   ],
   "source": [
    "localvariable = 15\n",
    "def myfunction():\n",
    "    localvariable = 20\n",
    "    print (localvariable)\n",
    "myfunction()\n",
    "print (localvariable)"
   ]
  },
  {
   "cell_type": "code",
   "execution_count": 55,
   "id": "05571f97-c0bd-4729-b77f-0a601eee2e2a",
   "metadata": {},
   "outputs": [
    {
     "name": "stdout",
     "output_type": "stream",
     "text": [
      "26\n",
      "yogesh 26000\n"
     ]
    },
    {
     "ename": "NameError",
     "evalue": "name 'age' is not defined",
     "output_type": "error",
     "traceback": [
      "\u001b[1;31m---------------------------------------------------------------------------\u001b[0m",
      "\u001b[1;31mNameError\u001b[0m                                 Traceback (most recent call last)",
      "Cell \u001b[1;32mIn [55], line 13\u001b[0m\n\u001b[0;32m     11\u001b[0m         \u001b[38;5;28mprint\u001b[39m (age)\n\u001b[0;32m     12\u001b[0m emp \u001b[38;5;241m=\u001b[39m emp()\n\u001b[1;32m---> 13\u001b[0m \u001b[43memp\u001b[49m\u001b[38;5;241;43m.\u001b[39;49m\u001b[43mshow\u001b[49m\u001b[43m(\u001b[49m\u001b[43m)\u001b[49m\n",
      "Cell \u001b[1;32mIn [55], line 11\u001b[0m, in \u001b[0;36memp.show\u001b[1;34m(self)\u001b[0m\n\u001b[0;32m      9\u001b[0m \u001b[38;5;28;01mdef\u001b[39;00m \u001b[38;5;21mshow\u001b[39m(\u001b[38;5;28mself\u001b[39m):\n\u001b[0;32m     10\u001b[0m     \u001b[38;5;28mprint\u001b[39m (\u001b[38;5;124mf\u001b[39m\u001b[38;5;124m'\u001b[39m\u001b[38;5;132;01m{\u001b[39;00m\u001b[38;5;28mself\u001b[39m\u001b[38;5;241m.\u001b[39mname\u001b[38;5;132;01m}\u001b[39;00m\u001b[38;5;124m \u001b[39m\u001b[38;5;132;01m{\u001b[39;00m\u001b[38;5;28mself\u001b[39m\u001b[38;5;241m.\u001b[39msalary\u001b[38;5;132;01m}\u001b[39;00m\u001b[38;5;124m'\u001b[39m)\n\u001b[1;32m---> 11\u001b[0m     \u001b[38;5;28mprint\u001b[39m (\u001b[43mage\u001b[49m)\n",
      "\u001b[1;31mNameError\u001b[0m: name 'age' is not defined"
     ]
    }
   ],
   "source": [
    "address = \"jaipur\"\n",
    "class emp:\n",
    "    def __init__(self):\n",
    "        # here both name and salary variable are local variable it means we can access it within class\n",
    "        self.name = 'yogesh'\n",
    "        self.salary = 26000\n",
    "        #here age variable is a local variable it means we cannot access it in another function\n",
    "        age = 26\n",
    "        print (age)\n",
    "    def show(self):\n",
    "        print (f'{self.name} {self.salary}')\n",
    "        \n",
    "        print (age)\n",
    "        \n",
    "emp = emp()\n",
    "emp.show()\n"
   ]
  },
  {
   "cell_type": "code",
   "execution_count": 5,
   "id": "c719e647-ea3c-44c2-9ae7-6bafe39f5835",
   "metadata": {},
   "outputs": [
    {
     "name": "stdout",
     "output_type": "stream",
     "text": [
      "26\n",
      "yogesh 26000\n"
     ]
    },
    {
     "ename": "NameError",
     "evalue": "name 'address' is not defined",
     "output_type": "error",
     "traceback": [
      "\u001b[1;31m---------------------------------------------------------------------------\u001b[0m",
      "\u001b[1;31mNameError\u001b[0m                                 Traceback (most recent call last)",
      "Cell \u001b[1;32mIn [5], line 16\u001b[0m\n\u001b[0;32m     13\u001b[0m         \u001b[38;5;28mprint\u001b[39m (address)\n\u001b[0;32m     15\u001b[0m emp \u001b[38;5;241m=\u001b[39m emp()\n\u001b[1;32m---> 16\u001b[0m \u001b[43memp\u001b[49m\u001b[38;5;241;43m.\u001b[39;49m\u001b[43mshow\u001b[49m\u001b[43m(\u001b[49m\u001b[43m)\u001b[49m\n",
      "Cell \u001b[1;32mIn [5], line 13\u001b[0m, in \u001b[0;36memp.show\u001b[1;34m(self)\u001b[0m\n\u001b[0;32m     11\u001b[0m \u001b[38;5;28;01mdef\u001b[39;00m \u001b[38;5;21mshow\u001b[39m(\u001b[38;5;28mself\u001b[39m):\n\u001b[0;32m     12\u001b[0m     \u001b[38;5;28mprint\u001b[39m (\u001b[38;5;124mf\u001b[39m\u001b[38;5;124m'\u001b[39m\u001b[38;5;132;01m{\u001b[39;00m\u001b[38;5;28mself\u001b[39m\u001b[38;5;241m.\u001b[39mname\u001b[38;5;132;01m}\u001b[39;00m\u001b[38;5;124m \u001b[39m\u001b[38;5;132;01m{\u001b[39;00m\u001b[38;5;28mself\u001b[39m\u001b[38;5;241m.\u001b[39msalary\u001b[38;5;132;01m}\u001b[39;00m\u001b[38;5;124m'\u001b[39m)\n\u001b[1;32m---> 13\u001b[0m     \u001b[38;5;28mprint\u001b[39m (\u001b[43maddress\u001b[49m)\n",
      "\u001b[1;31mNameError\u001b[0m: name 'address' is not defined"
     ]
    }
   ],
   "source": [
    "\n",
    "class emp:\n",
    "    # address is a global variable\n",
    "    address = \"jaipur\"\n",
    "    def __init__(self):\n",
    "        # here both name and salary variable are local variable it means we can access it within class\n",
    "        self.name = 'yogesh'\n",
    "        self.salary = 26000\n",
    "        #here age variable is a local variable it means we cannot access it in another function\n",
    "        age = 26\n",
    "        print (age)\n",
    "    def show(self):\n",
    "        print (f'{self.name} {self.salary}')\n",
    "        print (address)\n",
    "        \n",
    "emp = emp()\n",
    "emp.show()"
   ]
  },
  {
   "cell_type": "code",
   "execution_count": 65,
   "id": "42ba7f8b-c8e3-431c-992d-b13d00a99758",
   "metadata": {},
   "outputs": [
    {
     "name": "stdout",
     "output_type": "stream",
     "text": [
      "26\n",
      "yogesh 26000\n",
      "jaipur\n"
     ]
    },
    {
     "ename": "AttributeError",
     "evalue": "'emp' object has no attribute 'age'",
     "output_type": "error",
     "traceback": [
      "\u001b[1;31m---------------------------------------------------------------------------\u001b[0m",
      "\u001b[1;31mAttributeError\u001b[0m                            Traceback (most recent call last)",
      "Cell \u001b[1;32mIn [65], line 18\u001b[0m\n\u001b[0;32m     16\u001b[0m emp\u001b[38;5;241m.\u001b[39maddress \u001b[38;5;66;03m# we can access global variable without using object.global variable can be accessed using class name\u001b[39;00m\n\u001b[0;32m     17\u001b[0m obj1\u001b[38;5;241m.\u001b[39msalary\n\u001b[1;32m---> 18\u001b[0m \u001b[43mobj1\u001b[49m\u001b[38;5;241;43m.\u001b[39;49m\u001b[43mage\u001b[49m \u001b[38;5;66;03m#cannot access local variable using obj but using print we can access it \u001b[39;00m\n",
      "\u001b[1;31mAttributeError\u001b[0m: 'emp' object has no attribute 'age'"
     ]
    }
   ],
   "source": [
    "class emp:\n",
    "    # address is a global variable\n",
    "    address = \"jaipur\"\n",
    "    def __init__(self):\n",
    "        # here both name and salary variable are local variable it means we can access it within class\n",
    "        self.name = 'yogesh'\n",
    "        self.salary = 26000\n",
    "        #here age variable is a local variable it means we cannot access it in another function\n",
    "        age = 26\n",
    "        print (age)\n",
    "    def show(self):\n",
    "        print (f'{self.name} {self.salary}')\n",
    "        print (address)\n",
    "obj1 = emp()\n",
    "obj1.show()\n",
    "emp.address # we can access global variable without using object.global variable can be accessed using class name\n",
    "obj1.salary\n",
    "obj1.age #cannot access local variable using obj but using print we can access it \n"
   ]
  },
  {
   "cell_type": "code",
   "execution_count": 4,
   "id": "e3cf4135-62e3-48e0-ba8a-a1bb925ba3f6",
   "metadata": {},
   "outputs": [
    {
     "name": "stdout",
     "output_type": "stream",
     "text": [
      "Name : yogesh Age : 26 salary : 25000\n",
      "Name : yogesh Age : 26 salary : 31250.0\n"
     ]
    }
   ],
   "source": [
    "raise_amount = 25\n",
    "class emp:\n",
    "    \n",
    "    def __init__(self,name,age,salary):\n",
    "        self.name = name\n",
    "        self.age = age\n",
    "        self.salary = salary\n",
    "        #print (raise_amount)\n",
    "    def increase_salary (self):\n",
    "        divide = raise_amount/100\n",
    "        self.salary = self.salary + (self.salary*divide)\n",
    "    def display(self):\n",
    "        print (f'Name : {self.name} Age : {self.age} salary : {self.salary}')\n",
    "        #print (raise_amount*100)\n",
    "#obj = emp('yogesh',26,25000)\n",
    "#obj.display()\n",
    "#obj.increase_salary()\n",
    "#obj.display()\n",
    "#emp.raise_amount\n",
    "obj = emp('yogesh',26,25000)\n",
    "obj.display()\n",
    "obj.increase_salary()\n",
    "obj.display()\n",
    "\n",
    "\n"
   ]
  },
  {
   "cell_type": "code",
   "execution_count": null,
   "id": "72c8199d-daa2-4e3b-b6fe-b1c4cf2b3f2f",
   "metadata": {},
   "outputs": [],
   "source": [
    "# three types of variable in class\n",
    "# 1. global variable\n",
    "# 2. local variable\n",
    "# 3. instance variable/object variable"
   ]
  },
  {
   "cell_type": "code",
   "execution_count": null,
   "id": "9f5847f5-9cc9-41c6-8b47-38cdd1770844",
   "metadata": {},
   "outputs": [],
   "source": [
    "# three types of method in class\n",
    "# 1. instance/object method\n",
    "# 2. class method\n",
    "# 3. static method"
   ]
  },
  {
   "cell_type": "code",
   "execution_count": null,
   "id": "8f85004c-4d8d-4a06-bf5a-6b31cb1c991b",
   "metadata": {},
   "outputs": [],
   "source": [
    "class emp:\n",
    "    \n",
    "    def __init__(self,name,age,salary):\n",
    "        self.name = name\n",
    "        self.age = age\n",
    "        self.salary = salary\n",
    "        #print (raise_amount)\n",
    "    def increase_salary (self):\n",
    "        divide = raise_amount/100\n",
    "        self.salary = self.salary + (self.salary*divide)\n",
    "    def display(self):\n",
    "        print (f'Name : {self.name} Age : {self.age} salary : {self.salary}')\n",
    "\n",
    "# here all above method are instance method"
   ]
  },
  {
   "cell_type": "code",
   "execution_count": 8,
   "id": "5b37a892-9432-43fc-8128-c05d3f1bc8db",
   "metadata": {},
   "outputs": [
    {
     "name": "stdout",
     "output_type": "stream",
     "text": [
      "enter a number 10\n"
     ]
    },
    {
     "name": "stdout",
     "output_type": "stream",
     "text": [
      "10\n",
      "area : 314.1592653589793\n",
      "circum : 62.83185307179586\n"
     ]
    },
    {
     "ename": "TypeError",
     "evalue": "circle.show() takes 0 positional arguments but 1 was given",
     "output_type": "error",
     "traceback": [
      "\u001b[1;31m---------------------------------------------------------------------------\u001b[0m",
      "\u001b[1;31mTypeError\u001b[0m                                 Traceback (most recent call last)",
      "Cell \u001b[1;32mIn [8], line 21\u001b[0m\n\u001b[0;32m     19\u001b[0m calculation_math\u001b[38;5;241m.\u001b[39mcal_circum()\n\u001b[0;32m     20\u001b[0m calculation_math\u001b[38;5;241m.\u001b[39mdisplay()\n\u001b[1;32m---> 21\u001b[0m \u001b[43mcalculation_math\u001b[49m\u001b[38;5;241;43m.\u001b[39;49m\u001b[43mshow\u001b[49m\u001b[43m(\u001b[49m\u001b[43m)\u001b[49m\n",
      "\u001b[1;31mTypeError\u001b[0m: circle.show() takes 0 positional arguments but 1 was given"
     ]
    }
   ],
   "source": [
    "import math\n",
    "class circle:\n",
    "    def __init__(self,r):\n",
    "        self.radius = r\n",
    "        print (f'{self.radius}')\n",
    "    def cal_area(self):\n",
    "        self.area = math.pi*(self.radius**2)\n",
    "    def cal_circum(self):\n",
    "        self.circum = 2*math.pi*self.radius\n",
    "    def display(self):\n",
    "        print (f\"area : {self.area}\")\n",
    "        print (f\"circum : {self.circum}\")\n",
    "    # here show is a local method and we cannot use local method in a class\n",
    "    def show():\n",
    "        print ('yogesh')\n",
    "radius = int(input(\"enter a number\"))\n",
    "calculation_math = circle(radius)\n",
    "calculation_math.cal_area()\n",
    "calculation_math.cal_circum()\n",
    "calculation_math.display()\n",
    "calculation_math.show()\n",
    "\n"
   ]
  },
  {
   "cell_type": "code",
   "execution_count": 2,
   "id": "c8a9b94e-dc4a-46bd-bf20-27bea381a063",
   "metadata": {},
   "outputs": [
    {
     "name": "stdout",
     "output_type": "stream",
     "text": [
      "Name : yogesh Age : 26 salary : 10000.0\n",
      "Name : yogesh Age : 26 salary : 11000.0\n",
      "Name : yogesh Age : 26 salary : 12100.0\n"
     ]
    }
   ],
   "source": [
    "# class method\n",
    "class emp:\n",
    "    raise_amount = 0\n",
    "    @classmethod\n",
    "    def my_class_method(cls,value):\n",
    "        cls.raise_amount = value\n",
    "    \n",
    "    def __init__(self,name,age,salary):\n",
    "        self.name = name\n",
    "        self.age = age\n",
    "        self.salary = salary\n",
    "        #print (raise_amount)\n",
    "        #print (raise_amount)\n",
    "    def increase_salary (self):\n",
    "        #divide = raise_amount/100\n",
    "        self.salary = self.salary + (self.salary*(emp.raise_amount/100))\n",
    "    def display(self):\n",
    "        print (f'Name : {self.name} Age : {self.age} salary : {self.salary}')\n",
    "obj = emp('yogesh',26,10000)\n",
    "obj.increase_salary ()\n",
    "emp.raise_amount\n",
    "obj.display()\n",
    "obj.my_class_method(10)\n",
    "obj.increase_salary()\n",
    "obj.display()\n",
    "obj.increase_salary()\n",
    "obj.display()\n",
    "        "
   ]
  },
  {
   "cell_type": "code",
   "execution_count": 29,
   "id": "e29d3340-295b-40fb-9ae1-daeb0ef8ba02",
   "metadata": {},
   "outputs": [],
   "source": [
    "# static method = it is a indivisual entity\n",
    "# we can access static method only using of class name\n",
    "# static method have not any refrence e.g. class methode take ref 'cls' and instance variavble take 'self' ref"
   ]
  },
  {
   "cell_type": "code",
   "execution_count": 22,
   "id": "a41f0057",
   "metadata": {},
   "outputs": [
    {
     "name": "stdout",
     "output_type": "stream",
     "text": [
      "This is a static method.\n"
     ]
    }
   ],
   "source": [
    "class emp:\n",
    "    raise_amount = 0\n",
    "    @classmethod\n",
    "    def my_class_method(cls,value):\n",
    "        cls.raise_amount = value\n",
    "    \n",
    "    def __init__(self,name,age,salary):\n",
    "        self.name = name\n",
    "        self.age = age\n",
    "        self.salary = salary\n",
    "        #print (raise_amount)\n",
    "        #print (raise_amount)\n",
    "    def increase_salary (self):\n",
    "        #divide = raise_amount/100\n",
    "        self.salary = self.salary + (self.salary*(emp.raise_amount/100))\n",
    "    def display(self):\n",
    "        print (f'Name : {self.name} Age : {self.age} salary : {self.salary}')\n",
    "    @staticmethod\n",
    "    def static_method():\n",
    "        print(\"This is a static method.\")\n",
    "    \n",
    "    \n",
    "emp.static_method()"
   ]
  },
  {
   "cell_type": "code",
   "execution_count": 27,
   "id": "2a5e538e",
   "metadata": {},
   "outputs": [
    {
     "name": "stdout",
     "output_type": "stream",
     "text": [
      "keerap ramuk hsegoy\n"
     ]
    }
   ],
   "source": [
    "def greet (text):\n",
    "    #return text.upper()\n",
    "    text = text[::-1]\n",
    "    return text\n",
    "greet = greet('yogesh kumar pareek')\n",
    "print (greet)"
   ]
  },
  {
   "cell_type": "code",
   "execution_count": 82,
   "id": "0fc33234",
   "metadata": {},
   "outputs": [
    {
     "name": "stdout",
     "output_type": "stream",
     "text": [
      "this will help in decorator concept\n",
      "HI GOOD MORNING HOW ARE YOU\n"
     ]
    }
   ],
   "source": [
    "def greet (text):\n",
    "    print ('this will help in decorator concept')\n",
    "    return text.upper()\n",
    "def shout(text):\n",
    "    return text.lower()\n",
    "def master (func):\n",
    "    output = func(\"Hi good morning how are you\")\n",
    "    print (output)\n",
    "master(greet)\n"
   ]
  },
  {
   "cell_type": "code",
   "execution_count": 9,
   "id": "a9bdac2d",
   "metadata": {},
   "outputs": [
    {
     "data": {
      "text/plain": [
       "50"
      ]
     },
     "execution_count": 9,
     "metadata": {},
     "output_type": "execute_result"
    }
   ],
   "source": [
    "def create_add(x):\n",
    "    def add (y):\n",
    "        return x+y\n",
    "    return add\n",
    "var = create_add(20)\n",
    "var(30)"
   ]
  },
  {
   "cell_type": "code",
   "execution_count": 11,
   "id": "c28a4079",
   "metadata": {},
   "outputs": [
    {
     "data": {
      "text/plain": [
       "'yogesh kumar pareek'"
      ]
     },
     "execution_count": 11,
     "metadata": {},
     "output_type": "execute_result"
    }
   ],
   "source": [
    "def create_add(x):\n",
    "    def add (y):\n",
    "        return x +\" \"+\"kumar\"+\" \" + y\n",
    "    return add\n",
    "var = create_add('yogesh')\n",
    "var('pareek')"
   ]
  },
  {
   "cell_type": "code",
   "execution_count": null,
   "id": "cf5a5824",
   "metadata": {},
   "outputs": [],
   "source": [
    "#decorator\n",
    "def hello_decorator(func):\n",
    "    def inner():\n",
    "        print ('before execution')\n",
    "        func()\n",
    "        print ('after execution')\n",
    "        "
   ]
  },
  {
   "cell_type": "code",
   "execution_count": 12,
   "id": "69ad651a",
   "metadata": {},
   "outputs": [
    {
     "name": "stdout",
     "output_type": "stream",
     "text": [
      "inside this function\n"
     ]
    },
    {
     "data": {
      "text/plain": [
       "30"
      ]
     },
     "execution_count": 12,
     "metadata": {},
     "output_type": "execute_result"
    }
   ],
   "source": [
    "def sum_two_number(a,b):\n",
    "    print ('inside this function')\n",
    "    return a+b\n",
    "sum_two_number(10,20)"
   ]
  },
  {
   "cell_type": "code",
   "execution_count": 49,
   "id": "08a307d9",
   "metadata": {},
   "outputs": [
    {
     "name": "stdout",
     "output_type": "stream",
     "text": [
      "before execution\n",
      "inside this function\n",
      "after execution\n"
     ]
    },
    {
     "data": {
      "text/plain": [
       "30"
      ]
     },
     "execution_count": 49,
     "metadata": {},
     "output_type": "execute_result"
    }
   ],
   "source": [
    "def hello_decorator(func):\n",
    "    def inner(a,b):\n",
    "        print ('before execution')\n",
    "        value = func(a,b)\n",
    "        print ('after execution')\n",
    "        return value\n",
    "    return inner\n",
    "@hello_decorator\n",
    "def sum_two_number(a,b):\n",
    "    print ('inside this function')\n",
    "    return a+b\n",
    "\n",
    "sum_two_number(10,20)"
   ]
  },
  {
   "cell_type": "code",
   "execution_count": 80,
   "id": "e3135d73",
   "metadata": {},
   "outputs": [
    {
     "name": "stdout",
     "output_type": "stream",
     "text": [
      "inside this function\n"
     ]
    }
   ],
   "source": [
    "def sum_two_number(a,b):\n",
    "    print ('inside this function')\n",
    "    return a+b\n",
    "value = sum_two_number(10,20)\n"
   ]
  },
  {
   "cell_type": "code",
   "execution_count": 78,
   "id": "0ed2fed0",
   "metadata": {},
   "outputs": [
    {
     "name": "stdout",
     "output_type": "stream",
     "text": [
      "inside this function\n"
     ]
    },
    {
     "data": {
      "text/plain": [
       "30"
      ]
     },
     "execution_count": 78,
     "metadata": {},
     "output_type": "execute_result"
    }
   ],
   "source": [
    "def sum_two_number(a,b):\n",
    "    print ('inside this function')\n",
    "    return a+b\n",
    "sum_two_number(10,20)"
   ]
  },
  {
   "cell_type": "code",
   "execution_count": 81,
   "id": "4d19f734",
   "metadata": {},
   "outputs": [
    {
     "name": "stdout",
     "output_type": "stream",
     "text": [
      "inside this function\n",
      "30\n"
     ]
    }
   ],
   "source": [
    "def sum_two_number(a,b):\n",
    "    print ('inside this function')\n",
    "    return a+b\n",
    "value = sum_two_number(10,20)\n",
    "print (value)"
   ]
  }
 ],
 "metadata": {
  "kernelspec": {
   "display_name": "Python 3 (ipykernel)",
   "language": "python",
   "name": "python3"
  },
  "language_info": {
   "codemirror_mode": {
    "name": "ipython",
    "version": 3
   },
   "file_extension": ".py",
   "mimetype": "text/x-python",
   "name": "python",
   "nbconvert_exporter": "python",
   "pygments_lexer": "ipython3",
   "version": "3.10.8"
  }
 },
 "nbformat": 4,
 "nbformat_minor": 5
}
