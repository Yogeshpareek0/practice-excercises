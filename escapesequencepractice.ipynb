{
 "cells": [
  {
   "cell_type": "code",
   "execution_count": 38,
   "metadata": {},
   "outputs": [
    {
     "name": "stdout",
     "output_type": "stream",
     "text": [
      "my name is yogesh kumar pareek\n",
      "i am learning python\n"
     ]
    }
   ],
   "source": [
    "# 1.Write a program that prints a sentence with a newline character in the middle, resulting in two lines of output.\n",
    "print ('my name is yogesh kumar pareek\\ni am learning python')"
   ]
  },
  {
   "cell_type": "code",
   "execution_count": 39,
   "metadata": {},
   "outputs": [
    {
     "name": "stdout",
     "output_type": "stream",
     "text": [
      " \"welcome ,  \" \n"
     ]
    }
   ],
   "source": [
    "# 2.Write a program that asks the user for their name and prints a welcome message with their name properly formatted and surrounded by double quotes.\n",
    "your_name = input('Enter your name')\n",
    "print (f' \\\"welcome , {your_name} \\\" ')\n"
   ]
  },
  {
   "cell_type": "code",
   "execution_count": 40,
   "metadata": {},
   "outputs": [
    {
     "name": "stdout",
     "output_type": "stream",
     "text": [
      "****\n",
      "*  *\n",
      "*  *\n",
      "*  *\n",
      "****\n"
     ]
    }
   ],
   "source": [
    "#3.Write a program that prints the following pattern using escape sequences:\n",
    "# *****\n",
    "# *   *\n",
    "# *   *\n",
    "# *   *\n",
    "# *****\n",
    "print ('****\\n*  *\\n*  *\\n*  *\\n****')\n"
   ]
  },
  {
   "cell_type": "code",
   "execution_count": 41,
   "metadata": {},
   "outputs": [
    {
     "name": "stdout",
     "output_type": "stream",
     "text": [
      "\\\" \n"
     ]
    }
   ],
   "source": [
    "# 4. Write a program that prints a backslash () followed by a double quote (\") character.\n",
    "print (\"\\\\\\\" \")"
   ]
  },
  {
   "cell_type": "code",
   "execution_count": 42,
   "metadata": {},
   "outputs": [
    {
     "name": "stdout",
     "output_type": "stream",
     "text": [
      "    *    \n",
      "   ***   \n",
      "  *****  \n",
      " ******* \n",
      "*********\n"
     ]
    }
   ],
   "source": [
    "# 5.Write a program that prints the following pyramid pattern using escape sequences:\n",
    "print ('    *    \\n   ***   \\n  *****  \\n ******* \\n*********')"
   ]
  },
  {
   "cell_type": "code",
   "execution_count": 43,
   "metadata": {},
   "outputs": [
    {
     "name": "stdout",
     "output_type": "stream",
     "text": [
      "yogesh kumar pareek\n"
     ]
    }
   ],
   "source": [
    "# 6. Write a program that asks the user for their favorite quote and prints it with proper formatting, including double quotes around the quote and a newline character at the end.\n",
    "quote = input('Enter your favorite quote:')\n",
    "formatted_quote = f'{quote}'\n",
    "print (quote+'yogesh kumar pareek'+quote)"
   ]
  },
  {
   "cell_type": "code",
   "execution_count": 44,
   "metadata": {},
   "outputs": [
    {
     "name": "stdout",
     "output_type": "stream",
     "text": [
      "A\n",
      "B\n",
      "C\n",
      "D\n",
      "E\n",
      "F\n",
      "G\n",
      "H\n",
      "I\n",
      "J\n",
      "K\n",
      "L\n",
      "M\n",
      "N\n",
      "O\n",
      "P\n",
      "Q\n",
      "R\n",
      "S\n",
      "T\n",
      "U\n",
      "V\n",
      "W\n",
      "X\n",
      "Y\n",
      "Z\n"
     ]
    }
   ],
   "source": [
    "# 7. Write a program that prints a table of ASCII characters from code 65 to 90, with each character and its corresponding code on a new line.\n",
    "for i in range(65,91):\n",
    "    print (chr(i))"
   ]
  },
  {
   "cell_type": "code",
   "execution_count": 45,
   "metadata": {},
   "outputs": [
    {
     "name": "stdout",
     "output_type": "stream",
     "text": [
      "Adress\n",
      "Line 1: VILLAGE - DEOLI KHURD , POST GANAGWA\n",
      "Line 2: TAH PARBATSAR \n",
      "Line 3: DIST. NAGAUR  (RAJ)\n"
     ]
    }
   ],
   "source": [
    "# 8. Write a program that asks the user for their address and prints it in the following format:\n",
    "# Address:\n",
    "# Line 1: [user-provided address line 1]\n",
    "# Line 2: [user-provided address line 2]\n",
    "# Line 3: [user-provided address line 3]\n",
    "add1 = input('user-provided address line 1')\n",
    "print ('Adress')\n",
    "print (f'Line 1: {add1.upper()}')\n",
    "add2 = input('user-provided address line 2')\n",
    "print (f'Line 2: {add2.upper()}')\n",
    "add3 = input('user-provided address line 3')\n",
    "print (f'Line 3: {add3.upper()}')\n",
    "\n",
    "\n"
   ]
  },
  {
   "cell_type": "code",
   "execution_count": 46,
   "metadata": {},
   "outputs": [
    {
     "name": "stdout",
     "output_type": "stream",
     "text": [
      "This is a\n",
      "multiline\n",
      "string.\n",
      "This is a\ttabbed\tstring.\n",
      "This is a backslash: \\\n",
      "This is a single-quoted string with a single quote: '\n",
      "This is a double-quoted string with a double quote: \"\n"
     ]
    }
   ],
   "source": [
    "# 9.write escape sequence example :\n",
    "print(\"This is a\\nmultiline\\nstring.\")\n",
    "print(\"This is a\\ttabbed\\tstring.\")\n",
    "print(\"This is a backslash: \\\\\")\n",
    "print('This is a single-quoted string with a single quote: \\'')\n",
    "print(\"This is a double-quoted string with a double quote: \\\"\")\n"
   ]
  },
  {
   "cell_type": "code",
   "execution_count": 49,
   "metadata": {},
   "outputs": [
    {
     "name": "stdout",
     "output_type": "stream",
     "text": [
      "name : yogesh kumar\tpareek\n"
     ]
    }
   ],
   "source": [
    "# 10.print a name with tabbed.\n",
    "print ('name : yogesh kumar\\tpareek')"
   ]
  }
 ],
 "metadata": {
  "kernelspec": {
   "display_name": "base",
   "language": "python",
   "name": "python3"
  },
  "language_info": {
   "codemirror_mode": {
    "name": "ipython",
    "version": 3
   },
   "file_extension": ".py",
   "mimetype": "text/x-python",
   "name": "python",
   "nbconvert_exporter": "python",
   "pygments_lexer": "ipython3",
   "version": "3.10.9"
  },
  "orig_nbformat": 4
 },
 "nbformat": 4,
 "nbformat_minor": 2
}
